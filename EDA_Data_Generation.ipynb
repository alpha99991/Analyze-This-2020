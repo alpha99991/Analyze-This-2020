{
 "cells": [
  {
   "cell_type": "code",
   "execution_count": 1,
   "metadata": {},
   "outputs": [],
   "source": [
    "import pandas as pd\n",
    "import matplotlib.pyplot as plt\n",
    "import numpy as np\n",
    "import seaborn as sns"
   ]
  },
  {
   "cell_type": "code",
   "execution_count": 2,
   "metadata": {},
   "outputs": [],
   "source": [
    "train = pd.read_csv(\"train_float_nan.csv\")"
   ]
  },
  {
   "cell_type": "code",
   "execution_count": 6,
   "metadata": {},
   "outputs": [],
   "source": [
    "train.drop('cust_id',axis=1,inplace=True)"
   ]
  },
  {
   "cell_type": "code",
   "execution_count": null,
   "metadata": {},
   "outputs": [],
   "source": []
  },
  {
   "cell_type": "code",
   "execution_count": 7,
   "metadata": {},
   "outputs": [
    {
     "data": {
      "text/plain": [
       "['profitable_flag',\n",
       " 'count_accts',\n",
       " 'cm_age',\n",
       " 'flag_top_ed_spender',\n",
       " 'flag_cust_fee_paid_6m',\n",
       " 'pre6m_cust_spend',\n",
       " 'pre6m_cust_roc_cnt',\n",
       " 'pre6m_cust_non_disc_amt',\n",
       " 'pre6m_cust_non_disc_cnt',\n",
       " 'pre6m_cust_disc_amt',\n",
       " 'pre6m_cust_disc_cnt',\n",
       " 'pre6m_cust_outbound_amt',\n",
       " 'pre6m_cust_online_amt',\n",
       " 'pre6m_cust_online_cnt',\n",
       " 'pre6m_cust_travel_amt',\n",
       " 'pre6m_cust_travel_cnt',\n",
       " 'pre6m_cust_retail_amt',\n",
       " 'pre6m_cust_retail_cnt',\n",
       " 'pre6m_cust_myca_active',\n",
       " 'pre6m_cust_mob_logins',\n",
       " 'pre6m_total_mc_trs',\n",
       " 'acq_sub_chn',\n",
       " 'acq_type_grp',\n",
       " 'fee_type_grp',\n",
       " 'Cust_tenure',\n",
       " 'pre6m_spend_active_ind',\n",
       " 'highly_utilized_ind',\n",
       " 'min_pay_ind',\n",
       " 'paid_in_full_ind',\n",
       " 'sum_total_line_amt',\n",
       " 'direct_debit_ind',\n",
       " 'referrals',\n",
       " 'spillover',\n",
       " 'self_accts',\n",
       " 'Customer Low Quality indicator',\n",
       " 'cdss_most_rcnt_prob',\n",
       " 'cust_max_credit_12m_amt',\n",
       " 'cust_max_remit_12m_amt',\n",
       " 'cbr_3_score',\n",
       " 'cnsumr_chrg_actv_cust_cnt',\n",
       " 'cnsumr_chrg_avg_credit_12m_amt',\n",
       " 'cnsumr_lend_actv_cust_cnt',\n",
       " 'cnsumr_lend_tot_util_ratio',\n",
       " 'sow_revol_avg_paydown_pct',\n",
       " 'sow_tot_annual_ext_pmt_amt',\n",
       " 'sow_tot_revol_bal_amt',\n",
       " 'sow_tot_revol_cnt',\n",
       " 'sow_tot_trans_bal_amt',\n",
       " 'sow_tot_trans_cnt']"
      ]
     },
     "execution_count": 7,
     "metadata": {},
     "output_type": "execute_result"
    }
   ],
   "source": [
    "list(train.columns)"
   ]
  },
  {
   "cell_type": "code",
   "execution_count": 15,
   "metadata": {},
   "outputs": [],
   "source": [
    "# for col in list(train.columns):\n",
    "    \n",
    "#     sns.distplot(train[str(col)])"
   ]
  },
  {
   "cell_type": "code",
   "execution_count": 14,
   "metadata": {},
   "outputs": [],
   "source": [
    "df0  = train[train['profitable_flag']==0]\n",
    "df1 = train[train['profitable_flag']==1]"
   ]
  },
  {
   "cell_type": "code",
   "execution_count": null,
   "metadata": {},
   "outputs": [],
   "source": []
  },
  {
   "cell_type": "code",
   "execution_count": null,
   "metadata": {},
   "outputs": [],
   "source": []
  }
 ],
 "metadata": {
  "kernelspec": {
   "display_name": "Python 3",
   "language": "python",
   "name": "python3"
  },
  "language_info": {
   "codemirror_mode": {
    "name": "ipython",
    "version": 3
   },
   "file_extension": ".py",
   "mimetype": "text/x-python",
   "name": "python",
   "nbconvert_exporter": "python",
   "pygments_lexer": "ipython3",
   "version": "3.7.4"
  }
 },
 "nbformat": 4,
 "nbformat_minor": 4
}
